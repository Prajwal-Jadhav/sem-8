{
  "nbformat": 4,
  "nbformat_minor": 0,
  "metadata": {
    "colab": {
      "provenance": [],
      "gpuType": "T4"
    },
    "kernelspec": {
      "name": "python3",
      "display_name": "Python 3"
    },
    "language_info": {
      "name": "python"
    },
    "accelerator": "GPU",
    "gpuClass": "standard"
  },
  "cells": [
    {
      "cell_type": "code",
      "execution_count": null,
      "metadata": {
        "colab": {
          "base_uri": "https://localhost:8080/"
        },
        "id": "k9WmJ6iw65-Z",
        "outputId": "50c8edd1-95de-42d4-b9b5-9873b6ed8ed4"
      },
      "outputs": [
        {
          "output_type": "stream",
          "name": "stdout",
          "text": [
            "Looking in indexes: https://pypi.org/simple, https://us-python.pkg.dev/colab-wheels/public/simple/\n",
            "Collecting git+https://github.com/afnan47/cuda.git\n",
            "  Cloning https://github.com/afnan47/cuda.git to /tmp/pip-req-build-5rnxxx3c\n",
            "  Running command git clone --filter=blob:none --quiet https://github.com/afnan47/cuda.git /tmp/pip-req-build-5rnxxx3c\n",
            "  Resolved https://github.com/afnan47/cuda.git to commit aac710a35f52bb78ab34d2e52517237941399eff\n",
            "  Preparing metadata (setup.py) ... \u001b[?25l\u001b[?25hdone\n",
            "Building wheels for collected packages: NVCCPlugin\n",
            "  Building wheel for NVCCPlugin (setup.py) ... \u001b[?25l\u001b[?25hdone\n",
            "  Created wheel for NVCCPlugin: filename=NVCCPlugin-0.0.2-py3-none-any.whl size=4287 sha256=22b3c54141e579f9a3ab454a554307dab83e499146aa9698fa78a2c8ad3c6227\n",
            "  Stored in directory: /tmp/pip-ephem-wheel-cache-6erdme4y/wheels/aa/f3/44/e10c1d226ec561d971fcd4b0463f6bff08602afa928a3e7bc7\n",
            "Successfully built NVCCPlugin\n",
            "Installing collected packages: NVCCPlugin\n",
            "Successfully installed NVCCPlugin-0.0.2\n"
          ]
        }
      ],
      "source": [
        "!pip install git+https://github.com/afnan47/cuda.git"
      ]
    },
    {
      "cell_type": "code",
      "source": [
        "%load_ext nvcc_plugin"
      ],
      "metadata": {
        "colab": {
          "base_uri": "https://localhost:8080/"
        },
        "id": "k23jAG707Z7o",
        "outputId": "4d16825e-e80d-4bcd-e9ee-3152e574e589"
      },
      "execution_count": null,
      "outputs": [
        {
          "output_type": "stream",
          "name": "stdout",
          "text": [
            "created output directory at /content/src\n",
            "Out bin /content/result.out\n"
          ]
        }
      ]
    },
    {
      "cell_type": "code",
      "source": [
        "%%cu\n",
        "#include <iostream>\n",
        "#include <stdio.h>\n",
        "#include <stdlib.h>\n",
        "\n",
        "#define SIZE 16\n",
        "\n",
        "__global__\n",
        "void matrixMul(int* dev_a, int* dev_b, int* dev_c)\n",
        "{\n",
        "    int row = blockIdx.y * blockDim.y + threadIdx.y;\n",
        "    int col = blockIdx.x * blockDim.x + threadIdx.x;\n",
        " \n",
        "    if (row < SIZE && col < SIZE)\n",
        "    {\n",
        "        int sum = 0;\n",
        "     \n",
        "        for (int i = 0; i < SIZE; ++i)\n",
        "        {\n",
        "            sum += dev_a[row * SIZE + i] * dev_b[i * SIZE + col];\n",
        "        }\n",
        "        dev_c[row * SIZE + col] = sum;\n",
        "    }\n",
        "}\n",
        "\n",
        "int main()\n",
        "{\n",
        "    int* a, *b, *c;\n",
        " \n",
        "    int matrix_size = SIZE * SIZE * sizeof(int);\n",
        "    a = (int*)malloc(matrix_size);\n",
        "    b = (int*)malloc(matrix_size);\n",
        "    c = (int*)malloc(matrix_size);\n",
        " \n",
        "    int* dev_a, *dev_b, *dev_c;\n",
        "    cudaMalloc(&dev_a, matrix_size);\n",
        "    cudaMalloc(&dev_b, matrix_size);\n",
        "    cudaMalloc(&dev_c, matrix_size);\n",
        " \n",
        "    for (int i = 0; i < SIZE * SIZE; ++i)\n",
        "    {\n",
        "        a[i] = rand() % 10;\n",
        "        b[i] = rand() % 10;\n",
        "    }\n",
        " \n",
        "    cudaMemcpy(dev_a, a, matrix_size, cudaMemcpyHostToDevice);\n",
        "    cudaMemcpy(dev_b, b, matrix_size, cudaMemcpyHostToDevice);\n",
        " \n",
        "    dim3 blockDim(SIZE, SIZE);\n",
        "    dim3 gridDim((SIZE + blockDim.x - 1) / blockDim.x, (SIZE + blockDim.y - 1) / blockDim.y);\n",
        " \n",
        "    matrixMul<<<gridDim, blockDim>>>(dev_a, dev_b, dev_c);\n",
        " \n",
        "    cudaMemcpy(c, dev_c, matrix_size, cudaMemcpyDeviceToHost);\n",
        " \n",
        "    // Print result\n",
        "    printf(\"Matrix C:\\n\");\n",
        "    for (int i = 0; i < SIZE; i++) {\n",
        "        for (int j = 0; j < SIZE; j++) {\n",
        "            printf(\"%d \", c[i * SIZE + j]);\n",
        "        }\n",
        "        printf(\"\\n\");\n",
        "    }\n",
        "}"
      ],
      "metadata": {
        "colab": {
          "base_uri": "https://localhost:8080/"
        },
        "id": "d2r2GHXp7dYO",
        "outputId": "dd4dca8a-5d33-4502-8b26-ffddbf80285d"
      },
      "execution_count": null,
      "outputs": [
        {
          "output_type": "stream",
          "name": "stdout",
          "text": [
            "Matrix C:\n",
            "334 360 308 299 171 258 178 298 322 305 308 409 250 261 261 334 \n",
            "357 444 345 321 220 323 268 292 403 355 344 375 184 219 276 349 \n",
            "370 392 395 416 282 323 321 329 407 379 354 455 239 320 334 340 \n",
            "372 405 279 308 215 252 304 288 338 392 340 419 273 239 300 311 \n",
            "483 538 352 447 250 396 438 377 425 516 426 585 333 244 429 374 \n",
            "446 460 425 439 286 339 341 361 513 422 456 517 273 363 389 417 \n",
            "376 461 328 392 252 300 323 359 376 402 429 441 241 295 245 333 \n",
            "340 461 362 403 272 302 344 235 401 377 409 446 236 317 263 385 \n",
            "256 299 277 350 209 169 219 212 271 278 291 356 188 294 183 288 \n",
            "483 508 449 425 261 399 401 444 465 498 463 549 247 270 368 390 \n",
            "332 360 215 254 194 268 226 251 313 240 300 339 242 215 213 266 \n",
            "341 434 307 390 240 269 314 353 363 387 412 492 267 302 284 333 \n",
            "296 352 223 328 188 212 238 304 269 280 296 348 194 203 216 226 \n",
            "404 469 336 430 234 342 306 387 435 389 422 525 229 315 294 369 \n",
            "489 578 405 476 305 367 357 430 463 452 456 561 324 324 313 425 \n",
            "328 411 303 353 229 312 314 191 372 367 344 356 241 246 315 313 \n",
            "\n"
          ]
        }
      ]
    },
    {
      "cell_type": "code",
      "source": [],
      "metadata": {
        "id": "Y-4vEWFIEVNn"
      },
      "execution_count": null,
      "outputs": []
    }
  ]
}