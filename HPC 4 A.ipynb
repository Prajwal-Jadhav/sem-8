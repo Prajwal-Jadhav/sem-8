{
  "nbformat": 4,
  "nbformat_minor": 0,
  "metadata": {
    "colab": {
      "provenance": [],
      "gpuType": "T4"
    },
    "kernelspec": {
      "name": "python3",
      "display_name": "Python 3"
    },
    "language_info": {
      "name": "python"
    },
    "accelerator": "GPU",
    "gpuClass": "standard"
  },
  "cells": [
    {
      "cell_type": "code",
      "execution_count": null,
      "metadata": {
        "colab": {
          "base_uri": "https://localhost:8080/"
        },
        "id": "ATWPJhOgxgrI",
        "outputId": "a4e4fd87-a0ea-423c-8399-fbf34bf7372d"
      },
      "outputs": [
        {
          "output_type": "stream",
          "name": "stdout",
          "text": [
            "Looking in indexes: https://pypi.org/simple, https://us-python.pkg.dev/colab-wheels/public/simple/\n",
            "Collecting git+https://github.com/afnan47/cuda.git\n",
            "  Cloning https://github.com/afnan47/cuda.git to /tmp/pip-req-build-2mlyjyjq\n",
            "  Running command git clone --filter=blob:none --quiet https://github.com/afnan47/cuda.git /tmp/pip-req-build-2mlyjyjq\n",
            "  Resolved https://github.com/afnan47/cuda.git to commit aac710a35f52bb78ab34d2e52517237941399eff\n",
            "  Preparing metadata (setup.py) ... \u001b[?25l\u001b[?25hdone\n"
          ]
        }
      ],
      "source": [
        "!pip install git+https://github.com/afnan47/cuda.git"
      ]
    },
    {
      "cell_type": "code",
      "source": [
        "%load_ext nvcc_plugin"
      ],
      "metadata": {
        "colab": {
          "base_uri": "https://localhost:8080/"
        },
        "id": "drzb453HxpNY",
        "outputId": "9342aa02-99dc-486d-9e82-19e9aa899d99"
      },
      "execution_count": null,
      "outputs": [
        {
          "output_type": "stream",
          "name": "stdout",
          "text": [
            "The nvcc_plugin extension is already loaded. To reload it, use:\n",
            "  %reload_ext nvcc_plugin\n"
          ]
        }
      ]
    },
    {
      "cell_type": "code",
      "source": [
        "%%cu\n",
        "#include <iostream>\n",
        "#include <stdlib.h>\n",
        "\n",
        "using namespace std;\n",
        "\n",
        "__global__\n",
        "void add_vectors(int* dev_a, int* dev_b, int* dev_c, int size)\n",
        "{\n",
        "    int tid = blockIdx.x * blockDim.x + threadIdx.x;\n",
        " \n",
        "    if (tid < size)\n",
        "    {\n",
        "        dev_c[tid] = dev_a[tid] + dev_b[tid];\n",
        "    }\n",
        "}\n",
        "\n",
        "void print_vector(int* vec, int size)\n",
        "{\n",
        "    for (int i = 0; i < size; ++i)\n",
        "    {\n",
        "        cout << vec[i] << \" \";\n",
        "    }\n",
        "    cout << \"\\n\";\n",
        "}\n",
        "\n",
        "int main()\n",
        "{\n",
        "    int SIZE = 3;\n",
        "    int* a = (int*)malloc(SIZE * sizeof(int));\n",
        "    int* b = (int*)malloc(SIZE * sizeof(int));\n",
        "    int* c = (int*)malloc(SIZE * sizeof(int));\n",
        " \n",
        "    for (int i = 0; i < SIZE; ++i)\n",
        "    {\n",
        "        a[i] = rand() % 10;\n",
        "        b[i] = rand() % 10;\n",
        "    }\n",
        " \n",
        "    cout << \"Vector A: \";\n",
        "    print_vector(a, SIZE);\n",
        "\n",
        "    cout << \"Vector B: \";\n",
        "    print_vector(b, SIZE);\n",
        " \n",
        "    int* dev_a, *dev_b, *dev_c;\n",
        "\n",
        "    cudaMalloc(&dev_a, SIZE * sizeof(int));\n",
        "    cudaMalloc(&dev_b, SIZE * sizeof(int));\n",
        "    cudaMalloc(&dev_c, SIZE * sizeof(int));\n",
        " \n",
        "    cudaMemcpy(dev_a, a, SIZE * sizeof(int), cudaMemcpyHostToDevice);\n",
        "    cudaMemcpy(dev_b, b, SIZE * sizeof(int), cudaMemcpyHostToDevice);\n",
        " \n",
        "    int threadsPerBlock = 256;\n",
        "    int blocksPerGrid = (SIZE + threadsPerBlock - 1) / threadsPerBlock;\n",
        "    \n",
        "    add_vectors<<<blocksPerGrid, threadsPerBlock>>>(dev_a, dev_b, dev_c, SIZE);\n",
        " \n",
        "    cudaMemcpy(c, dev_c, SIZE * sizeof(int), cudaMemcpyDeviceToHost);\n",
        "\n",
        "    cout << \"Vector C: \";\n",
        "    print_vector(c, SIZE);\n",
        "\n",
        "    cudaFree(dev_a);\n",
        "    cudaFree(dev_b);\n",
        "    cudaFree(dev_c);\n",
        " \n",
        "    free(a);\n",
        "    free(b);\n",
        "    free(c);\n",
        "}"
      ],
      "metadata": {
        "colab": {
          "base_uri": "https://localhost:8080/"
        },
        "id": "nGGjOJo1yOTs",
        "outputId": "f697ceda-6117-4188-8509-356cbe658a85"
      },
      "execution_count": null,
      "outputs": [
        {
          "output_type": "stream",
          "name": "stdout",
          "text": [
            "Vector A: 3 7 3 \n",
            "Vector B: 6 5 5 \n",
            "Vector C: 9 12 8 \n",
            "\n"
          ]
        }
      ]
    },
    {
      "cell_type": "code",
      "source": [],
      "metadata": {
        "id": "XIGCZ14L6Onq"
      },
      "execution_count": null,
      "outputs": []
    }
  ]
}