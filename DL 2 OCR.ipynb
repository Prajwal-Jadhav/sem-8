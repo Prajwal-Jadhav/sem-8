{
  "nbformat": 4,
  "nbformat_minor": 0,
  "metadata": {
    "colab": {
      "provenance": []
    },
    "kernelspec": {
      "name": "python3",
      "display_name": "Python 3"
    },
    "language_info": {
      "name": "python"
    }
  },
  "cells": [
    {
      "cell_type": "code",
      "execution_count": null,
      "metadata": {
        "id": "UZyruqyarwu8"
      },
      "outputs": [],
      "source": [
        "import numpy as np\n",
        "import pandas as pd\n"
      ]
    },
    {
      "cell_type": "code",
      "source": [
        "df = pd.read_csv(\"/content/letter-recognition.data\")"
      ],
      "metadata": {
        "id": "sdicvbFHskce"
      },
      "execution_count": null,
      "outputs": []
    },
    {
      "cell_type": "code",
      "source": [
        "x = df.iloc[:, 1:]\n",
        "y = df.iloc[:, 0]"
      ],
      "metadata": {
        "id": "hEcnGTtBssaA"
      },
      "execution_count": null,
      "outputs": []
    },
    {
      "cell_type": "code",
      "source": [
        "from sklearn.preprocessing import LabelEncoder\n",
        "\n",
        "label_encoder = LabelEncoder()\n",
        "\n",
        "y = label_encoder.fit_transform(y)"
      ],
      "metadata": {
        "id": "wwM_ChfQtM8s"
      },
      "execution_count": null,
      "outputs": []
    },
    {
      "cell_type": "code",
      "source": [
        "from sklearn.model_selection import train_test_split\n",
        "\n",
        "x_train, x_test, y_train, y_test = train_test_split(x, y, test_size=0.2, random_state=4)"
      ],
      "metadata": {
        "id": "VuJjpIwwuX4z"
      },
      "execution_count": null,
      "outputs": []
    },
    {
      "cell_type": "code",
      "source": [
        "from keras.utils import to_categorical\n",
        "\n",
        "y_train = to_categorical(y_train)\n",
        "y_test = to_categorical(y_test)"
      ],
      "metadata": {
        "id": "E8Y3vSvPuwis"
      },
      "execution_count": null,
      "outputs": []
    },
    {
      "cell_type": "code",
      "source": [
        "from keras.models import Sequential\n",
        "from keras.layers import Dense, Flatten\n",
        "\n",
        "model = Sequential()\n",
        "model.add(Dense(64, activation=\"relu\", input_dim=16))\n",
        "model.add(Dense(64, activation=\"relu\"))\n",
        "model.add(Dense(26, activation=\"softmax\"))\n",
        "\n",
        "model.summary()"
      ],
      "metadata": {
        "colab": {
          "base_uri": "https://localhost:8080/"
        },
        "id": "sBIS4myn63GD",
        "outputId": "c128bf83-aef3-4d6c-ed6e-bdd67aa1754a"
      },
      "execution_count": null,
      "outputs": [
        {
          "output_type": "stream",
          "name": "stdout",
          "text": [
            "Model: \"sequential\"\n",
            "_________________________________________________________________\n",
            " Layer (type)                Output Shape              Param #   \n",
            "=================================================================\n",
            " dense (Dense)               (None, 64)                1088      \n",
            "                                                                 \n",
            " dense_1 (Dense)             (None, 64)                4160      \n",
            "                                                                 \n",
            " dense_2 (Dense)             (None, 26)                1690      \n",
            "                                                                 \n",
            "=================================================================\n",
            "Total params: 6,938\n",
            "Trainable params: 6,938\n",
            "Non-trainable params: 0\n",
            "_________________________________________________________________\n"
          ]
        }
      ]
    },
    {
      "cell_type": "code",
      "source": [
        "model.compile(optimizer=\"adam\", loss=\"categorical_crossentropy\", metrics=[\"accuracy\"])"
      ],
      "metadata": {
        "id": "r-Lvar5_7yDw"
      },
      "execution_count": null,
      "outputs": []
    },
    {
      "cell_type": "code",
      "source": [
        "history = model.fit(x_train, y_train, epochs=30, verbose=1)"
      ],
      "metadata": {
        "colab": {
          "base_uri": "https://localhost:8080/"
        },
        "id": "x1ybzIyZ8Xua",
        "outputId": "7bad2329-8801-4aa4-8fce-04024b892976"
      },
      "execution_count": null,
      "outputs": [
        {
          "output_type": "stream",
          "name": "stdout",
          "text": [
            "Epoch 1/30\n",
            "500/500 [==============================] - 1s 2ms/step - loss: 0.3920 - accuracy: 0.8800\n",
            "Epoch 2/30\n",
            "500/500 [==============================] - 1s 2ms/step - loss: 0.3697 - accuracy: 0.8818\n",
            "Epoch 3/30\n",
            "500/500 [==============================] - 1s 2ms/step - loss: 0.3509 - accuracy: 0.8879\n",
            "Epoch 4/30\n",
            "500/500 [==============================] - 1s 2ms/step - loss: 0.3391 - accuracy: 0.8933\n",
            "Epoch 5/30\n",
            "500/500 [==============================] - 1s 2ms/step - loss: 0.3177 - accuracy: 0.8991\n",
            "Epoch 6/30\n",
            "500/500 [==============================] - 1s 2ms/step - loss: 0.3074 - accuracy: 0.9029\n",
            "Epoch 7/30\n",
            "500/500 [==============================] - 1s 2ms/step - loss: 0.2918 - accuracy: 0.9071\n",
            "Epoch 8/30\n",
            "500/500 [==============================] - 1s 3ms/step - loss: 0.2834 - accuracy: 0.9094\n",
            "Epoch 9/30\n",
            "500/500 [==============================] - 1s 2ms/step - loss: 0.2701 - accuracy: 0.9146\n",
            "Epoch 10/30\n",
            "500/500 [==============================] - 1s 2ms/step - loss: 0.2615 - accuracy: 0.9175\n",
            "Epoch 11/30\n",
            "500/500 [==============================] - 1s 2ms/step - loss: 0.2591 - accuracy: 0.9162\n",
            "Epoch 12/30\n",
            "500/500 [==============================] - 1s 2ms/step - loss: 0.2436 - accuracy: 0.9222\n",
            "Epoch 13/30\n",
            "500/500 [==============================] - 1s 2ms/step - loss: 0.2381 - accuracy: 0.9236\n",
            "Epoch 14/30\n",
            "500/500 [==============================] - 1s 2ms/step - loss: 0.2359 - accuracy: 0.9239\n",
            "Epoch 15/30\n",
            "500/500 [==============================] - 1s 2ms/step - loss: 0.2232 - accuracy: 0.9272\n",
            "Epoch 16/30\n",
            "500/500 [==============================] - 1s 2ms/step - loss: 0.2166 - accuracy: 0.9297\n",
            "Epoch 17/30\n",
            "500/500 [==============================] - 1s 2ms/step - loss: 0.2121 - accuracy: 0.9311\n",
            "Epoch 18/30\n",
            "500/500 [==============================] - 1s 2ms/step - loss: 0.2071 - accuracy: 0.9318\n",
            "Epoch 19/30\n",
            "500/500 [==============================] - 1s 2ms/step - loss: 0.2007 - accuracy: 0.9324\n",
            "Epoch 20/30\n",
            "500/500 [==============================] - 1s 2ms/step - loss: 0.1986 - accuracy: 0.9341\n",
            "Epoch 21/30\n",
            "500/500 [==============================] - 1s 3ms/step - loss: 0.1910 - accuracy: 0.9349\n",
            "Epoch 22/30\n",
            "500/500 [==============================] - 1s 3ms/step - loss: 0.1887 - accuracy: 0.9377\n",
            "Epoch 23/30\n",
            "500/500 [==============================] - 1s 2ms/step - loss: 0.1803 - accuracy: 0.9399\n",
            "Epoch 24/30\n",
            "500/500 [==============================] - 1s 3ms/step - loss: 0.1764 - accuracy: 0.9413\n",
            "Epoch 25/30\n",
            "500/500 [==============================] - 1s 2ms/step - loss: 0.1748 - accuracy: 0.9410\n",
            "Epoch 26/30\n",
            "500/500 [==============================] - 1s 2ms/step - loss: 0.1727 - accuracy: 0.9409\n",
            "Epoch 27/30\n",
            "500/500 [==============================] - 1s 2ms/step - loss: 0.1699 - accuracy: 0.9425\n",
            "Epoch 28/30\n",
            "500/500 [==============================] - 1s 2ms/step - loss: 0.1678 - accuracy: 0.9466\n",
            "Epoch 29/30\n",
            "500/500 [==============================] - 1s 2ms/step - loss: 0.1643 - accuracy: 0.9441\n",
            "Epoch 30/30\n",
            "500/500 [==============================] - 1s 2ms/step - loss: 0.1572 - accuracy: 0.9479\n"
          ]
        }
      ]
    },
    {
      "cell_type": "code",
      "source": [
        "loss, accuracy = model.evaluate(x_test, y_test)"
      ],
      "metadata": {
        "colab": {
          "base_uri": "https://localhost:8080/"
        },
        "id": "fiWowxvz8keV",
        "outputId": "7910c841-4f58-40bb-d151-87bdec59e0bc"
      },
      "execution_count": null,
      "outputs": [
        {
          "output_type": "stream",
          "name": "stdout",
          "text": [
            "125/125 [==============================] - 1s 3ms/step - loss: 0.2000 - accuracy: 0.9375\n"
          ]
        }
      ]
    },
    {
      "cell_type": "code",
      "source": [],
      "metadata": {
        "id": "m4OwJhPP9IVx"
      },
      "execution_count": null,
      "outputs": []
    }
  ]
}